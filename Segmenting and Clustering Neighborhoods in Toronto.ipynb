{
    "cells": [
        {
            "cell_type": "code",
            "execution_count": 1,
            "metadata": {},
            "outputs": [],
            "source": "# The code was removed by Watson Studio for sharing."
        },
        {
            "cell_type": "markdown",
            "metadata": {
                "collapsed": true
            },
            "source": "# Segmenting and Clustering Neighborhoods in Toronto"
        },
        {
            "cell_type": "markdown",
            "metadata": {},
            "source": "_Author: Miguel Acevedo_\n\nOn this notebook I explore, segment, and cluster the neighborhoods in the city of Toronto. For the Toronto neighborhood data, I scrape the [Wikipedia page](https://en.wikipedia.org/wiki/List_of_postal_codes_of_Canada:_M) containing the Zip code, Borough and Neighborhood data for each neighborhood in Toronto, wrangle, clean and read it into a Pandas Dataframe.   \n\nI then convert these addresses into their equivalent latitude and longitude values using [geopy library](https://geopy.readthedocs.io/en/latest/) and use the [Foursquare Places API](https://developer.foursquare.com/docs/places-api/) to get the most common venues categories in each neigborhood to group them into clusters using K-Means.\n\n***\n\nEn este Notebook exploro, segmento y agrupo los vecindarios de la ciudad de Toronto. Para obtener los datos del vecindario de Toronto, hago _webscraping_ de la [p\u00e1gina de Wikipedia](https://en.wikipedia.org/wiki/List_of_postal_codes_of_Canada:_M) que contiene el c\u00f3digo postal, la ciudad y los datos del vecindario para cada vecindario en Toronto. Una vez obtengo los datos entonces los limpio y lo leo en un Pandas Dataframe.\n\nLuego, convierto estas direcciones en sus valores equivalentes de latitud y longitud y utilizo la API de Foursquare para obtener las categor\u00edas de lugares m\u00e1s comunes en cada vecindario y asi agruparlas en grupos similares utilizando el algoritmo de K-Means.\n\n***"
        },
        {
            "cell_type": "markdown",
            "metadata": {},
            "source": "## Table of contents\n> 1. [Download and Explore Data](#download)\n> 2. [Explore Neighborhoods in Toronto](#explore)\n> 3. [Analyze each Neighborhood](#analyze)\n> 4. [Cluster Neighborhoods](#cluster)\n> 5. [Examine Clusters](#examine)\n\n***"
        },
        {
            "cell_type": "markdown",
            "metadata": {},
            "source": "## Importing Libraries"
        },
        {
            "cell_type": "code",
            "execution_count": 2,
            "metadata": {},
            "outputs": [
                {
                    "name": "stdout",
                    "output_type": "stream",
                    "text": "Requirement already satisfied: geopy in /opt/conda/envs/Python36/lib/python3.6/site-packages (1.18.1)\nRequirement already satisfied: geographiclib<2,>=1.49 in /opt/conda/envs/Python36/lib/python3.6/site-packages (from geopy) (1.49)\nRequirement already satisfied: folium==0.5.0 in /opt/conda/envs/Python36/lib/python3.6/site-packages (0.5.0)\nRequirement already satisfied: requests in /opt/conda/envs/Python36/lib/python3.6/site-packages (from folium==0.5.0) (2.21.0)\nRequirement already satisfied: branca in /opt/conda/envs/Python36/lib/python3.6/site-packages (from folium==0.5.0) (0.4.0)\nRequirement already satisfied: six in /opt/conda/envs/Python36/lib/python3.6/site-packages (from folium==0.5.0) (1.12.0)\nRequirement already satisfied: jinja2 in /opt/conda/envs/Python36/lib/python3.6/site-packages (from folium==0.5.0) (2.10)\nRequirement already satisfied: urllib3<1.25,>=1.21.1 in /opt/conda/envs/Python36/lib/python3.6/site-packages (from requests->folium==0.5.0) (1.24.1)\nRequirement already satisfied: chardet<3.1.0,>=3.0.2 in /opt/conda/envs/Python36/lib/python3.6/site-packages (from requests->folium==0.5.0) (3.0.4)\nRequirement already satisfied: idna<2.9,>=2.5 in /opt/conda/envs/Python36/lib/python3.6/site-packages (from requests->folium==0.5.0) (2.8)\nRequirement already satisfied: certifi>=2017.4.17 in /opt/conda/envs/Python36/lib/python3.6/site-packages (from requests->folium==0.5.0) (2019.11.28)\nRequirement already satisfied: MarkupSafe>=0.23 in /opt/conda/envs/Python36/lib/python3.6/site-packages (from jinja2->folium==0.5.0) (1.1.0)\nLibraries imported!\n"
                }
            ],
            "source": "import numpy as np # handle data into vectorized manner\nimport pandas as pd # data analysis\npd.set_option('display.max_columns', None)\npd.set_option('display.max_rows', None)\nimport json # handle json files\nfrom pandas.io.json import json_normalize # transform JSON file to pandas dataframe\nimport requests # handle requests\nfrom bs4 import BeautifulSoup\nimport csv\n\n!pip install geopy\nfrom geopy.geocoders import Nominatim # convert an address into latitude and longitude values\n\n# Matplotlib and associated plotting modules\nimport matplotlib.cm as cm\nimport matplotlib.colors as colors\n\n# Clustering Model\nfrom sklearn.cluster import KMeans\n\n!pip install folium==0.5.0\nimport folium # map rendering library\n\nprint('Libraries imported!')"
        },
        {
            "cell_type": "markdown",
            "metadata": {},
            "source": "## <a name=\"download\"></a>Download and Explore Data"
        },
        {
            "cell_type": "markdown",
            "metadata": {},
            "source": "***\n\nThe following code makes a request to the Wikipedia site, parses data using Beautiful Soup and saves each row into a csv file:  \n**This function was deprecated. Please see note below**"
        },
        {
            "cell_type": "code",
            "execution_count": 3,
            "metadata": {},
            "outputs": [],
            "source": "# get html using requests and parse with Beautiful Soup\nurl = 'https://en.wikipedia.org/wiki/List_of_postal_codes_of_Canada:_M' \n\n\ndef wikepedia_scraper(url):\n    \"\"\" \n    This function takes in the URL as an input, gets html, parses website using beatiful soup,\n    prints out the results for manual inspection, then it outputs a csv file with the data. \n    \"\"\"\n    \n    r = requests.get(url, timeout=3).text # get html \n    soup = BeautifulSoup(r, 'lxml') # parse html with Beautiful Soup\n    table = soup.table # go to table\n\n    # create csv file to save data:\n    csv_file = open(\"toronto_neighborhoods.csv\", \"w\")\n    csv_writer = csv.writer(csv_file)\n    csv_writer.writerow(['PostalCode', 'Borough', 'Neighborhood'])\n\n\n    # loop through each row and scrape data:\n    for row in table.find_all('td'): # find all rows within table\n        try: \n            zip_code = row.p.b.text # scrape zip code\n            borough = row.p.span.a.text.strip() # scrape borough\n            neighborhood = row.span.text.split('(')\n            neighborhood = neighborhood[1].split(')')[0]\n            if '/' in neighborhood: # If multiple Neighborhoods, separate with comma\n                neighborhood = neighborhood.replace(' /', ',')\n                print(zip_code)\n                print(borough)\n                print(neighborhood)\n                print()\n            else:\n                neighborhood = neighborhood\n                print(zip_code)\n                print(borough)\n                print(neighborhood)\n                print()\n        except Exception as e: \n            zip_code = None\n            borough = None\n            neighborhood = None\n        print() # print results\n    \n        csv_writer.writerow([zip_code, borough, neighborhood]) # Save to csv file\n    \n    csv_file.close() # close csv file\n\n# wikepedia_scraper(url)\n# df = pd.read_csv('toronto_neighborhoods.csv')\n# df.head()"
        },
        {
            "cell_type": "markdown",
            "metadata": {},
            "source": "> **Note:** The structure of the webpage changed so the above function would not work anymore.\n> I left the function on the notebook to ouline how I would scrape the webpage with the old structure.  \n\n***\n\nSince the data is now on a simpler format, I used Pandas library to scrape the table as shown below:"
        },
        {
            "cell_type": "code",
            "execution_count": 4,
            "metadata": {},
            "outputs": [
                {
                    "data": {
                        "text/html": "<div>\n<style scoped>\n    .dataframe tbody tr th:only-of-type {\n        vertical-align: middle;\n    }\n\n    .dataframe tbody tr th {\n        vertical-align: top;\n    }\n\n    .dataframe thead th {\n        text-align: right;\n    }\n</style>\n<table border=\"1\" class=\"dataframe\">\n  <thead>\n    <tr style=\"text-align: right;\">\n      <th></th>\n      <th>Postal code</th>\n      <th>Borough</th>\n      <th>Neighborhood</th>\n    </tr>\n  </thead>\n  <tbody>\n    <tr>\n      <th>0</th>\n      <td>M1A</td>\n      <td>Not assigned</td>\n      <td>NaN</td>\n    </tr>\n    <tr>\n      <th>1</th>\n      <td>M2A</td>\n      <td>Not assigned</td>\n      <td>NaN</td>\n    </tr>\n    <tr>\n      <th>2</th>\n      <td>M3A</td>\n      <td>North York</td>\n      <td>Parkwoods</td>\n    </tr>\n    <tr>\n      <th>3</th>\n      <td>M4A</td>\n      <td>North York</td>\n      <td>Victoria Village</td>\n    </tr>\n    <tr>\n      <th>4</th>\n      <td>M5A</td>\n      <td>Downtown Toronto</td>\n      <td>Regent Park / Harbourfront</td>\n    </tr>\n  </tbody>\n</table>\n</div>",
                        "text/plain": "  Postal code           Borough                Neighborhood\n0         M1A      Not assigned                         NaN\n1         M2A      Not assigned                         NaN\n2         M3A        North York                   Parkwoods\n3         M4A        North York            Victoria Village\n4         M5A  Downtown Toronto  Regent Park / Harbourfront"
                    },
                    "execution_count": 4,
                    "metadata": {},
                    "output_type": "execute_result"
                }
            ],
            "source": "url = 'https://en.wikipedia.org/wiki/List_of_postal_codes_of_Canada:_M'\ndf = pd.read_html(url)[0] # use pandas to scrape table. \ndf.head()"
        },
        {
            "cell_type": "markdown",
            "metadata": {},
            "source": "Dropping the zip codes that are not assigned:"
        },
        {
            "cell_type": "code",
            "execution_count": 5,
            "metadata": {},
            "outputs": [
                {
                    "data": {
                        "text/html": "<div>\n<style scoped>\n    .dataframe tbody tr th:only-of-type {\n        vertical-align: middle;\n    }\n\n    .dataframe tbody tr th {\n        vertical-align: top;\n    }\n\n    .dataframe thead th {\n        text-align: right;\n    }\n</style>\n<table border=\"1\" class=\"dataframe\">\n  <thead>\n    <tr style=\"text-align: right;\">\n      <th></th>\n      <th>Postal code</th>\n      <th>Borough</th>\n      <th>Neighborhood</th>\n    </tr>\n  </thead>\n  <tbody>\n    <tr>\n      <th>0</th>\n      <td>M3A</td>\n      <td>North York</td>\n      <td>Parkwoods</td>\n    </tr>\n    <tr>\n      <th>1</th>\n      <td>M4A</td>\n      <td>North York</td>\n      <td>Victoria Village</td>\n    </tr>\n    <tr>\n      <th>2</th>\n      <td>M5A</td>\n      <td>Downtown Toronto</td>\n      <td>Regent Park / Harbourfront</td>\n    </tr>\n    <tr>\n      <th>3</th>\n      <td>M6A</td>\n      <td>North York</td>\n      <td>Lawrence Manor / Lawrence Heights</td>\n    </tr>\n    <tr>\n      <th>4</th>\n      <td>M7A</td>\n      <td>Downtown Toronto</td>\n      <td>Queen's Park / Ontario Provincial Government</td>\n    </tr>\n  </tbody>\n</table>\n</div>",
                        "text/plain": "  Postal code           Borough                                  Neighborhood\n0         M3A        North York                                     Parkwoods\n1         M4A        North York                              Victoria Village\n2         M5A  Downtown Toronto                    Regent Park / Harbourfront\n3         M6A        North York             Lawrence Manor / Lawrence Heights\n4         M7A  Downtown Toronto  Queen's Park / Ontario Provincial Government"
                    },
                    "execution_count": 5,
                    "metadata": {},
                    "output_type": "execute_result"
                }
            ],
            "source": "df = df.loc[df['Borough'] != 'Not assigned', :].reset_index(drop=True)\ndf.head()"
        },
        {
            "cell_type": "code",
            "execution_count": 6,
            "metadata": {},
            "outputs": [
                {
                    "data": {
                        "text/html": "<div>\n<style scoped>\n    .dataframe tbody tr th:only-of-type {\n        vertical-align: middle;\n    }\n\n    .dataframe tbody tr th {\n        vertical-align: top;\n    }\n\n    .dataframe thead th {\n        text-align: right;\n    }\n</style>\n<table border=\"1\" class=\"dataframe\">\n  <thead>\n    <tr style=\"text-align: right;\">\n      <th></th>\n      <th>Postal code</th>\n      <th>Borough</th>\n      <th>Neighborhood</th>\n    </tr>\n  </thead>\n  <tbody>\n    <tr>\n      <th>0</th>\n      <td>M3A</td>\n      <td>North York</td>\n      <td>Parkwoods</td>\n    </tr>\n    <tr>\n      <th>1</th>\n      <td>M4A</td>\n      <td>North York</td>\n      <td>Victoria Village</td>\n    </tr>\n    <tr>\n      <th>2</th>\n      <td>M5A</td>\n      <td>Downtown Toronto</td>\n      <td>Regent Park, Harbourfront</td>\n    </tr>\n    <tr>\n      <th>3</th>\n      <td>M6A</td>\n      <td>North York</td>\n      <td>Lawrence Manor, Lawrence Heights</td>\n    </tr>\n    <tr>\n      <th>4</th>\n      <td>M7A</td>\n      <td>Downtown Toronto</td>\n      <td>Queen's Park, Ontario Provincial Government</td>\n    </tr>\n    <tr>\n      <th>5</th>\n      <td>M9A</td>\n      <td>Etobicoke</td>\n      <td>Islington Avenue</td>\n    </tr>\n    <tr>\n      <th>6</th>\n      <td>M1B</td>\n      <td>Scarborough</td>\n      <td>Malvern, Rouge</td>\n    </tr>\n    <tr>\n      <th>7</th>\n      <td>M3B</td>\n      <td>North York</td>\n      <td>Don Mills</td>\n    </tr>\n    <tr>\n      <th>8</th>\n      <td>M4B</td>\n      <td>East York</td>\n      <td>Parkview Hill, Woodbine Gardens</td>\n    </tr>\n    <tr>\n      <th>9</th>\n      <td>M5B</td>\n      <td>Downtown Toronto</td>\n      <td>Garden District, Ryerson</td>\n    </tr>\n  </tbody>\n</table>\n</div>",
                        "text/plain": "  Postal code           Borough                                 Neighborhood\n0         M3A        North York                                    Parkwoods\n1         M4A        North York                             Victoria Village\n2         M5A  Downtown Toronto                    Regent Park, Harbourfront\n3         M6A        North York             Lawrence Manor, Lawrence Heights\n4         M7A  Downtown Toronto  Queen's Park, Ontario Provincial Government\n5         M9A         Etobicoke                             Islington Avenue\n6         M1B       Scarborough                               Malvern, Rouge\n7         M3B        North York                                    Don Mills\n8         M4B         East York              Parkview Hill, Woodbine Gardens\n9         M5B  Downtown Toronto                     Garden District, Ryerson"
                    },
                    "execution_count": 6,
                    "metadata": {},
                    "output_type": "execute_result"
                }
            ],
            "source": "func = lambda x: x.replace(' /', ',') # lambda function that separates Neighborhoods with a comma\ndf['Neighborhood'] = df['Neighborhood'].apply(func)\ndf.head(10)"
        },
        {
            "cell_type": "code",
            "execution_count": 7,
            "metadata": {},
            "outputs": [
                {
                    "name": "stdout",
                    "output_type": "stream",
                    "text": "(103, 3)\n"
                },
                {
                    "data": {
                        "text/html": "<div>\n<style scoped>\n    .dataframe tbody tr th:only-of-type {\n        vertical-align: middle;\n    }\n\n    .dataframe tbody tr th {\n        vertical-align: top;\n    }\n\n    .dataframe thead th {\n        text-align: right;\n    }\n</style>\n<table border=\"1\" class=\"dataframe\">\n  <thead>\n    <tr style=\"text-align: right;\">\n      <th></th>\n      <th>Postal code</th>\n      <th>Borough</th>\n      <th>Neighborhood</th>\n    </tr>\n  </thead>\n  <tbody>\n    <tr>\n      <th>0</th>\n      <td>M3A</td>\n      <td>North York</td>\n      <td>Parkwoods</td>\n    </tr>\n    <tr>\n      <th>1</th>\n      <td>M4A</td>\n      <td>North York</td>\n      <td>Victoria Village</td>\n    </tr>\n    <tr>\n      <th>2</th>\n      <td>M5A</td>\n      <td>Downtown Toronto</td>\n      <td>Regent Park, Harbourfront</td>\n    </tr>\n    <tr>\n      <th>3</th>\n      <td>M6A</td>\n      <td>North York</td>\n      <td>Lawrence Manor, Lawrence Heights</td>\n    </tr>\n    <tr>\n      <th>4</th>\n      <td>M7A</td>\n      <td>Downtown Toronto</td>\n      <td>Queen's Park, Ontario Provincial Government</td>\n    </tr>\n  </tbody>\n</table>\n</div>",
                        "text/plain": "  Postal code           Borough                                 Neighborhood\n0         M3A        North York                                    Parkwoods\n1         M4A        North York                             Victoria Village\n2         M5A  Downtown Toronto                    Regent Park, Harbourfront\n3         M6A        North York             Lawrence Manor, Lawrence Heights\n4         M7A  Downtown Toronto  Queen's Park, Ontario Provincial Government"
                    },
                    "execution_count": 7,
                    "metadata": {},
                    "output_type": "execute_result"
                }
            ],
            "source": "print(df.shape)\ndf.head()"
        },
        {
            "cell_type": "markdown",
            "metadata": {},
            "source": "### Geolocation data"
        },
        {
            "cell_type": "code",
            "execution_count": 8,
            "metadata": {},
            "outputs": [
                {
                    "data": {
                        "text/html": "<div>\n<style scoped>\n    .dataframe tbody tr th:only-of-type {\n        vertical-align: middle;\n    }\n\n    .dataframe tbody tr th {\n        vertical-align: top;\n    }\n\n    .dataframe thead th {\n        text-align: right;\n    }\n</style>\n<table border=\"1\" class=\"dataframe\">\n  <thead>\n    <tr style=\"text-align: right;\">\n      <th></th>\n      <th>Postal code</th>\n      <th>Borough</th>\n      <th>Neighborhood</th>\n      <th>Location</th>\n      <th>location2</th>\n      <th>Latitude</th>\n      <th>Longitude</th>\n    </tr>\n  </thead>\n  <tbody>\n    <tr>\n      <th>0</th>\n      <td>M3A</td>\n      <td>North York</td>\n      <td>Parkwoods</td>\n      <td>North York, M3A, Toronto, Canada</td>\n      <td>(North York, Toronto, Golden Horseshoe, Ontari...</td>\n      <td>43.754326</td>\n      <td>-79.449117</td>\n    </tr>\n    <tr>\n      <th>1</th>\n      <td>M4A</td>\n      <td>North York</td>\n      <td>Victoria Village</td>\n      <td>North York, M4A, Toronto, Canada</td>\n      <td>None</td>\n      <td>NaN</td>\n      <td>NaN</td>\n    </tr>\n    <tr>\n      <th>2</th>\n      <td>M5A</td>\n      <td>Downtown Toronto</td>\n      <td>Regent Park, Harbourfront</td>\n      <td>Downtown Toronto, M5A, Toronto, Canada</td>\n      <td>None</td>\n      <td>NaN</td>\n      <td>NaN</td>\n    </tr>\n    <tr>\n      <th>3</th>\n      <td>M6A</td>\n      <td>North York</td>\n      <td>Lawrence Manor, Lawrence Heights</td>\n      <td>North York, M6A, Toronto, Canada</td>\n      <td>None</td>\n      <td>NaN</td>\n      <td>NaN</td>\n    </tr>\n    <tr>\n      <th>4</th>\n      <td>M7A</td>\n      <td>Downtown Toronto</td>\n      <td>Queen's Park, Ontario Provincial Government</td>\n      <td>Downtown Toronto, M7A, Toronto, Canada</td>\n      <td>(Downtown Yonge, Toronto Centre, Old Toronto, ...</td>\n      <td>43.656322</td>\n      <td>-79.380916</td>\n    </tr>\n  </tbody>\n</table>\n</div>",
                        "text/plain": "  Postal code           Borough                                 Neighborhood  \\\n0         M3A        North York                                    Parkwoods   \n1         M4A        North York                             Victoria Village   \n2         M5A  Downtown Toronto                    Regent Park, Harbourfront   \n3         M6A        North York             Lawrence Manor, Lawrence Heights   \n4         M7A  Downtown Toronto  Queen's Park, Ontario Provincial Government   \n\n                                 Location  \\\n0        North York, M3A, Toronto, Canada   \n1        North York, M4A, Toronto, Canada   \n2  Downtown Toronto, M5A, Toronto, Canada   \n3        North York, M6A, Toronto, Canada   \n4  Downtown Toronto, M7A, Toronto, Canada   \n\n                                           location2   Latitude  Longitude  \n0  (North York, Toronto, Golden Horseshoe, Ontari...  43.754326 -79.449117  \n1                                               None        NaN        NaN  \n2                                               None        NaN        NaN  \n3                                               None        NaN        NaN  \n4  (Downtown Yonge, Toronto Centre, Old Toronto, ...  43.656322 -79.380916  "
                    },
                    "execution_count": 8,
                    "metadata": {},
                    "output_type": "execute_result"
                }
            ],
            "source": "# combine Postal code, Borough and Neighborhood with state and country to get geolocation\nx = []\nfor i in df.index.values:\n  x.append(f\"{df['Borough'][i]}, {df['Postal code'][i]}, Toronto, Canada\")\ndf['Location'] = x\n\n# use geopy Pandas Dataframe option to get geolocation for each row\nfrom geopy.geocoders import Nominatim\ngeolocator = Nominatim(user_agent=\"toronto_location\") # instantiate geolocator\n\nfrom geopy.extra.rate_limiter import RateLimiter\ngeocode = RateLimiter(geolocator.geocode, min_delay_seconds=1) # call geocoding service\ndf['location2'] = df['Location'].apply(geocode)\ndf['Latitude'] = df['location2'].apply(lambda loc: tuple(loc.point)[0] if loc else None) # get latitude\ndf['Longitude'] = df['location2'].apply(lambda loc: tuple(loc.point)[1] if loc else None) # get longitude\ndf.head()"
        },
        {
            "cell_type": "code",
            "execution_count": 9,
            "metadata": {},
            "outputs": [
                {
                    "data": {
                        "text/plain": "18"
                    },
                    "execution_count": 9,
                    "metadata": {},
                    "output_type": "execute_result"
                }
            ],
            "source": "df['location2'].count()"
        },
        {
            "cell_type": "markdown",
            "metadata": {},
            "source": "**Unfortunately, the Geopy module is inconsistent and was only able to find Latitude and Longitude values for 18 out of the 103 Boroughs. I will use the Google [Geocoding API](https://developers.google.com/maps/documentation/geocoding/start?hl=es_419) python library to convert those to geolocation.**"
        },
        {
            "cell_type": "markdown",
            "metadata": {},
            "source": "### Using Google Geolocation API"
        },
        {
            "cell_type": "markdown",
            "metadata": {},
            "source": "**Install and instantiate Google Maps Geocoding client:**"
        },
        {
            "cell_type": "code",
            "execution_count": 10,
            "metadata": {},
            "outputs": [
                {
                    "name": "stdout",
                    "output_type": "stream",
                    "text": "Requirement already up-to-date: googlemaps in /opt/conda/envs/Python36/lib/python3.6/site-packages (4.2.0)\nRequirement already satisfied, skipping upgrade: requests<3.0,>=2.20.0 in /opt/conda/envs/Python36/lib/python3.6/site-packages (from googlemaps) (2.21.0)\nRequirement already satisfied, skipping upgrade: chardet<3.1.0,>=3.0.2 in /opt/conda/envs/Python36/lib/python3.6/site-packages (from requests<3.0,>=2.20.0->googlemaps) (3.0.4)\nRequirement already satisfied, skipping upgrade: urllib3<1.25,>=1.21.1 in /opt/conda/envs/Python36/lib/python3.6/site-packages (from requests<3.0,>=2.20.0->googlemaps) (1.24.1)\nRequirement already satisfied, skipping upgrade: certifi>=2017.4.17 in /opt/conda/envs/Python36/lib/python3.6/site-packages (from requests<3.0,>=2.20.0->googlemaps) (2019.11.28)\nRequirement already satisfied, skipping upgrade: idna<2.9,>=2.5 in /opt/conda/envs/Python36/lib/python3.6/site-packages (from requests<3.0,>=2.20.0->googlemaps) (2.8)\n"
                }
            ],
            "source": "# The code was removed by Watson Studio for sharing."
        },
        {
            "cell_type": "markdown",
            "metadata": {},
            "source": "**Testing:**"
        },
        {
            "cell_type": "code",
            "execution_count": 11,
            "metadata": {},
            "outputs": [
                {
                    "name": "stdout",
                    "output_type": "stream",
                    "text": "[{'address_components': [{'long_name': '1600', 'short_name': '1600', 'types': ['street_number']}, {'long_name': 'Amphitheatre Parkway', 'short_name': 'Amphitheatre Pkwy', 'types': ['route']}, {'long_name': 'Mountain View', 'short_name': 'Mountain View', 'types': ['locality', 'political']}, {'long_name': 'Santa Clara County', 'short_name': 'Santa Clara County', 'types': ['administrative_area_level_2', 'political']}, {'long_name': 'California', 'short_name': 'CA', 'types': ['administrative_area_level_1', 'political']}, {'long_name': 'United States', 'short_name': 'US', 'types': ['country', 'political']}, {'long_name': '94043', 'short_name': '94043', 'types': ['postal_code']}], 'formatted_address': '1600 Amphitheatre Pkwy, Mountain View, CA 94043, USA', 'geometry': {'location': {'lat': 37.42231, 'lng': -122.0846241}, 'location_type': 'ROOFTOP', 'viewport': {'northeast': {'lat': 37.42365898029151, 'lng': -122.0832751197085}, 'southwest': {'lat': 37.42096101970851, 'lng': -122.0859730802915}}}, 'place_id': 'ChIJtYuu0V25j4ARwu5e4wwRYgE', 'plus_code': {'compound_code': 'CWC8+W5 Mountain View, California, United States', 'global_code': '849VCWC8+W5'}, 'types': ['street_address']}]\n"
                }
            ],
            "source": "# test\ngeocode_result = gmaps.geocode('1600 Amphitheatre Parkway, Mountain View, CA')\nprint(geocode_result)"
        },
        {
            "cell_type": "code",
            "execution_count": 12,
            "metadata": {},
            "outputs": [
                {
                    "data": {
                        "text/plain": "{'lat': 37.42231, 'lng': -122.0846241}"
                    },
                    "execution_count": 12,
                    "metadata": {},
                    "output_type": "execute_result"
                }
            ],
            "source": "geocode_result[0]['geometry']['location']"
        },
        {
            "cell_type": "markdown",
            "metadata": {},
            "source": "**Getting All Latitude and Longitude Values:**"
        },
        {
            "cell_type": "code",
            "execution_count": 13,
            "metadata": {},
            "outputs": [],
            "source": "def google_geocoder(address):\n    ''' \n        Request geocode and returns Latitude and Longitude tuple.\n    '''\n    try:\n        result = gmaps.geocode(address)\n        latitude = result[0]['geometry']['location']['lat']\n        longitude = result[0]['geometry']['location']['lng']\n    except:\n        latitude = np.nan\n        longitude = np.nan\n    return latitude, longitude"
        },
        {
            "cell_type": "code",
            "execution_count": 14,
            "metadata": {},
            "outputs": [],
            "source": "df['Coord'] = df['Location'].apply(google_geocoder)"
        },
        {
            "cell_type": "code",
            "execution_count": 15,
            "metadata": {},
            "outputs": [
                {
                    "name": "stdout",
                    "output_type": "stream",
                    "text": "Google Geocoding API was able to retrieve 103 out of 103 Boroughs\n"
                },
                {
                    "data": {
                        "text/html": "<div>\n<style scoped>\n    .dataframe tbody tr th:only-of-type {\n        vertical-align: middle;\n    }\n\n    .dataframe tbody tr th {\n        vertical-align: top;\n    }\n\n    .dataframe thead th {\n        text-align: right;\n    }\n</style>\n<table border=\"1\" class=\"dataframe\">\n  <thead>\n    <tr style=\"text-align: right;\">\n      <th></th>\n      <th>Postal code</th>\n      <th>Borough</th>\n      <th>Neighborhood</th>\n      <th>Location</th>\n      <th>location2</th>\n      <th>Latitude</th>\n      <th>Longitude</th>\n      <th>Coord</th>\n    </tr>\n  </thead>\n  <tbody>\n    <tr>\n      <th>0</th>\n      <td>M3A</td>\n      <td>North York</td>\n      <td>Parkwoods</td>\n      <td>North York, M3A, Toronto, Canada</td>\n      <td>(North York, Toronto, Golden Horseshoe, Ontari...</td>\n      <td>43.754326</td>\n      <td>-79.449117</td>\n      <td>(43.7532586, -79.3296565)</td>\n    </tr>\n    <tr>\n      <th>1</th>\n      <td>M4A</td>\n      <td>North York</td>\n      <td>Victoria Village</td>\n      <td>North York, M4A, Toronto, Canada</td>\n      <td>None</td>\n      <td>NaN</td>\n      <td>NaN</td>\n      <td>(43.72588229999999, -79.3155716)</td>\n    </tr>\n    <tr>\n      <th>2</th>\n      <td>M5A</td>\n      <td>Downtown Toronto</td>\n      <td>Regent Park, Harbourfront</td>\n      <td>Downtown Toronto, M5A, Toronto, Canada</td>\n      <td>None</td>\n      <td>NaN</td>\n      <td>NaN</td>\n      <td>(43.6542599, -79.36063589999999)</td>\n    </tr>\n    <tr>\n      <th>3</th>\n      <td>M6A</td>\n      <td>North York</td>\n      <td>Lawrence Manor, Lawrence Heights</td>\n      <td>North York, M6A, Toronto, Canada</td>\n      <td>None</td>\n      <td>NaN</td>\n      <td>NaN</td>\n      <td>(43.718518, -79.4647633)</td>\n    </tr>\n    <tr>\n      <th>4</th>\n      <td>M7A</td>\n      <td>Downtown Toronto</td>\n      <td>Queen's Park, Ontario Provincial Government</td>\n      <td>Downtown Toronto, M7A, Toronto, Canada</td>\n      <td>(Downtown Yonge, Toronto Centre, Old Toronto, ...</td>\n      <td>43.656322</td>\n      <td>-79.380916</td>\n      <td>(43.6623015, -79.3894938)</td>\n    </tr>\n  </tbody>\n</table>\n</div>",
                        "text/plain": "  Postal code           Borough                                 Neighborhood  \\\n0         M3A        North York                                    Parkwoods   \n1         M4A        North York                             Victoria Village   \n2         M5A  Downtown Toronto                    Regent Park, Harbourfront   \n3         M6A        North York             Lawrence Manor, Lawrence Heights   \n4         M7A  Downtown Toronto  Queen's Park, Ontario Provincial Government   \n\n                                 Location  \\\n0        North York, M3A, Toronto, Canada   \n1        North York, M4A, Toronto, Canada   \n2  Downtown Toronto, M5A, Toronto, Canada   \n3        North York, M6A, Toronto, Canada   \n4  Downtown Toronto, M7A, Toronto, Canada   \n\n                                           location2   Latitude  Longitude  \\\n0  (North York, Toronto, Golden Horseshoe, Ontari...  43.754326 -79.449117   \n1                                               None        NaN        NaN   \n2                                               None        NaN        NaN   \n3                                               None        NaN        NaN   \n4  (Downtown Yonge, Toronto Centre, Old Toronto, ...  43.656322 -79.380916   \n\n                              Coord  \n0         (43.7532586, -79.3296565)  \n1  (43.72588229999999, -79.3155716)  \n2  (43.6542599, -79.36063589999999)  \n3          (43.718518, -79.4647633)  \n4         (43.6623015, -79.3894938)  "
                    },
                    "execution_count": 15,
                    "metadata": {},
                    "output_type": "execute_result"
                }
            ],
            "source": "print(\"Google Geocoding API was able to retrieve {} out of {} Boroughs\".format(df['Coord'].count(), df.shape[0]))\ndf.head()"
        },
        {
            "cell_type": "markdown",
            "metadata": {},
            "source": "**Cleanup and format**"
        },
        {
            "cell_type": "code",
            "execution_count": 16,
            "metadata": {},
            "outputs": [
                {
                    "data": {
                        "text/html": "<div>\n<style scoped>\n    .dataframe tbody tr th:only-of-type {\n        vertical-align: middle;\n    }\n\n    .dataframe tbody tr th {\n        vertical-align: top;\n    }\n\n    .dataframe thead th {\n        text-align: right;\n    }\n</style>\n<table border=\"1\" class=\"dataframe\">\n  <thead>\n    <tr style=\"text-align: right;\">\n      <th></th>\n      <th>Postal code</th>\n      <th>Borough</th>\n      <th>Neighborhood</th>\n      <th>Latitude</th>\n      <th>Longitude</th>\n    </tr>\n  </thead>\n  <tbody>\n    <tr>\n      <th>0</th>\n      <td>M3A</td>\n      <td>North York</td>\n      <td>Parkwoods</td>\n      <td>43.753259</td>\n      <td>-79.329656</td>\n    </tr>\n    <tr>\n      <th>1</th>\n      <td>M4A</td>\n      <td>North York</td>\n      <td>Victoria Village</td>\n      <td>43.725882</td>\n      <td>-79.315572</td>\n    </tr>\n    <tr>\n      <th>2</th>\n      <td>M5A</td>\n      <td>Downtown Toronto</td>\n      <td>Regent Park, Harbourfront</td>\n      <td>43.654260</td>\n      <td>-79.360636</td>\n    </tr>\n    <tr>\n      <th>3</th>\n      <td>M6A</td>\n      <td>North York</td>\n      <td>Lawrence Manor, Lawrence Heights</td>\n      <td>43.718518</td>\n      <td>-79.464763</td>\n    </tr>\n    <tr>\n      <th>4</th>\n      <td>M7A</td>\n      <td>Downtown Toronto</td>\n      <td>Queen's Park, Ontario Provincial Government</td>\n      <td>43.662301</td>\n      <td>-79.389494</td>\n    </tr>\n  </tbody>\n</table>\n</div>",
                        "text/plain": "  Postal code           Borough                                 Neighborhood  \\\n0         M3A        North York                                    Parkwoods   \n1         M4A        North York                             Victoria Village   \n2         M5A  Downtown Toronto                    Regent Park, Harbourfront   \n3         M6A        North York             Lawrence Manor, Lawrence Heights   \n4         M7A  Downtown Toronto  Queen's Park, Ontario Provincial Government   \n\n    Latitude  Longitude  \n0  43.753259 -79.329656  \n1  43.725882 -79.315572  \n2  43.654260 -79.360636  \n3  43.718518 -79.464763  \n4  43.662301 -79.389494  "
                    },
                    "execution_count": 16,
                    "metadata": {},
                    "output_type": "execute_result"
                }
            ],
            "source": "df['Latitude'] = df['Coord'].apply(lambda x: x[0])\ndf['Longitude'] = df['Coord'].apply(lambda x: x[1])\n\ndf = df.drop(columns=['Location', 'location2', 'Coord'])\ndf.head()"
        },
        {
            "cell_type": "code",
            "execution_count": 17,
            "metadata": {},
            "outputs": [
                {
                    "name": "stdout",
                    "output_type": "stream",
                    "text": "Dataframe Saved as csv!\n"
                }
            ],
            "source": "# Saving file into Cloud Object Storage\nproject.save_data(file_name = \"toronto_geolocation.csv\", data = df.to_csv(index=False), overwrite=True)\nprint('Dataframe Saved as csv!')"
        },
        {
            "cell_type": "markdown",
            "metadata": {},
            "source": "## <a name=\"explore\"></a>Explore Neighborhoods in Toronto"
        },
        {
            "cell_type": "code",
            "execution_count": null,
            "metadata": {},
            "outputs": [],
            "source": ""
        },
        {
            "cell_type": "markdown",
            "metadata": {},
            "source": "## <a name=\"analize\"></a>Analyze each Neighborhood"
        },
        {
            "cell_type": "code",
            "execution_count": null,
            "metadata": {},
            "outputs": [],
            "source": ""
        },
        {
            "cell_type": "markdown",
            "metadata": {},
            "source": "## <a name=\"cluster\"></a>Cluster Neighborhoods"
        },
        {
            "cell_type": "code",
            "execution_count": null,
            "metadata": {},
            "outputs": [],
            "source": ""
        },
        {
            "cell_type": "markdown",
            "metadata": {},
            "source": "## <a name=\"examine\"></a>Examine Clusters"
        },
        {
            "cell_type": "code",
            "execution_count": null,
            "metadata": {},
            "outputs": [],
            "source": ""
        }
    ],
    "metadata": {
        "kernelspec": {
            "display_name": "Python 3.6",
            "language": "python",
            "name": "python3"
        },
        "language_info": {
            "codemirror_mode": {
                "name": "ipython",
                "version": 3
            },
            "file_extension": ".py",
            "mimetype": "text/x-python",
            "name": "python",
            "nbconvert_exporter": "python",
            "pygments_lexer": "ipython3",
            "version": "3.6.9"
        }
    },
    "nbformat": 4,
    "nbformat_minor": 1
}