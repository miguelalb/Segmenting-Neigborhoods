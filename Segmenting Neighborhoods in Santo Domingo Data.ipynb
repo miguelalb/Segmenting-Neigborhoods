{
    "cells": [
        {
            "cell_type": "markdown",
            "metadata": {
                "collapsed": true
            },
            "source": "# The Battle of the Neighborhoods - Week 1\n\n## Data:\n\nOne city will be analyzed in this project: **Santo Domingo**\n\n**a.** We will scrape Coordinates and Neighborhoods data in Santo Domingo from this [webpage with postal codes and coordinates](http://www.codigopostalrepublicadominicana.com/nuevo-distrito-nacional-76).\n\n**b.** We will utilize Foursquare API to expand the dataset with the information of the most common venues. \n"
        }
    ],
    "metadata": {
        "kernelspec": {
            "display_name": "Python 3.6",
            "language": "python",
            "name": "python3"
        },
        "language_info": {
            "codemirror_mode": {
                "name": "ipython",
                "version": 3
            },
            "file_extension": ".py",
            "mimetype": "text/x-python",
            "name": "python",
            "nbconvert_exporter": "python",
            "pygments_lexer": "ipython3",
            "version": "3.6.9"
        }
    },
    "nbformat": 4,
    "nbformat_minor": 1
}