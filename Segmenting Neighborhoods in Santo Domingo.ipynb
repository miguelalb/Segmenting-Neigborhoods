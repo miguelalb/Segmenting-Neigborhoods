{
    "cells": [
        {
            "cell_type": "markdown",
            "metadata": {
                "collapsed": true
            },
            "source": "# The Battle of the Neighborhoods - Week 1\n\n## Introduction & Business Problem:\n\n### Problem Background:\nThe city of **Santo Domingo** officially **Santo Domingo de Guzm\u00e1n**, is the capital and largest city in the [Dominican Republic](https://en.wikipedia.org/wiki/Dominican_Republic) and the largest metropolitan area in the Caribbean by population. As of 2010, the city had a total poopulation of 2,908,607. \n\n**Brief History about Santo Domingo**: Founded by Bartholomew Columbus in 1496, on the east bank of the Ozama River and then moved by Nicol\u00e1s de Ovando in 1502 to the west bank of the river, the city is the oldest continuously inhabited European settlement in the Americas, and was the first seat of the Spanish colonial rule in the New World.Santo Domingo is the site of the first university, cathedral, castle, monastery, and fortress in the New World. The city's Colonial Zone was declared as a World Heritage Site by UNESCO.\n\n### Problem Description:  \nSay you live on the center of the city of Santo Domingo in Dominican Republic. You love your neighborhood, mainly because of all the great amenities and other types of venues that exist in the neighborhood, such as gourmet fast food joints, pharmacies, parks, graduate schools and so on. Now say you receive a job offer from a great company on the other side of the city with great career prospects. However, given the far distance from your current place you unfortunately must move if you decide to accept the offer.\n\nWouldn't it be great if you are able to determine neighborhoods on the other side of the city that are the same as your current neighborhood, and if not perhaps similar neighborhoods that are at least closer to your new job?\n\n\n### Target Audience:  \nThis information provided by this report would be useful for people who are interested in relocating to a different part of the city and are interested in finding new neighborhoods that are highly similar to their existing neighborhood.\n\n### Success Criteria:\nThe aim of this report is to study and analyze the neighborhoods of Santo Domingo city and group them into similar clusters and, to analyze those clusters to gather meaningful information. That information can be used to find out neighborhoods that are same as your current neighborhood or at least similar."
        }
    ],
    "metadata": {
        "kernelspec": {
            "display_name": "Python 3.6",
            "language": "python",
            "name": "python3"
        },
        "language_info": {
            "codemirror_mode": {
                "name": "ipython",
                "version": 3
            },
            "file_extension": ".py",
            "mimetype": "text/x-python",
            "name": "python",
            "nbconvert_exporter": "python",
            "pygments_lexer": "ipython3",
            "version": "3.6.9"
        }
    },
    "nbformat": 4,
    "nbformat_minor": 1
}